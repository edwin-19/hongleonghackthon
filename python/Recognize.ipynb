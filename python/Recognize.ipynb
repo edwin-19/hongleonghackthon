{
 "cells": [
  {
   "cell_type": "code",
   "execution_count": null,
   "metadata": {
    "collapsed": true
   },
   "outputs": [],
   "source": [
    "import face_recognition_api\n",
    "import cv2\n",
    "import os\n",
    "import pickle\n",
    "import numpy as np\n",
    "import warnings"
   ]
  },
  {
   "cell_type": "code",
   "execution_count": null,
   "metadata": {
    "collapsed": true
   },
   "outputs": [],
   "source": [
    "# Basic performance tweaks to make things run a lot faster:\n",
    "#   1. Process each video frame at 1/4 resolution (though still display it at full resolution)\n",
    "#   2. Only detect faces in every other frame of video."
   ]
  },
  {
   "cell_type": "code",
   "execution_count": null,
   "metadata": {
    "collapsed": true
   },
   "outputs": [],
   "source": [
    "# Get a reference to webcam #0 (the default one)\n",
    "video_capture = cv2.VideoCapture(0)"
   ]
  },
  {
   "cell_type": "code",
   "execution_count": null,
   "metadata": {
    "collapsed": true
   },
   "outputs": [],
   "source": [
    "# Load Face Recogniser classifier\n",
    "fname = 'classifier.pkl'\n",
    "if os.path.isfile(fname):\n",
    "    with open(fname, 'rb') as f:\n",
    "        (le, clf) = pickle.load(f)\n",
    "else:\n",
    "    print('\\x1b[0;37;43m' + \"Classifier '{}' does not exist\".format(fname) + '\\x1b[0m')\n",
    "    quit()"
   ]
  },
  {
   "cell_type": "code",
   "execution_count": null,
   "metadata": {
    "collapsed": true
   },
   "outputs": [],
   "source": [
    "# Initialize some variables\n",
    "face_locations = []\n",
    "face_encodings = []\n",
    "face_names = []\n",
    "process_this_frame = True"
   ]
  },
  {
   "cell_type": "code",
   "execution_count": null,
   "metadata": {
    "collapsed": true
   },
   "outputs": [],
   "source": [
    "with warnings.catch_warnings():\n",
    "    warnings.simplefilter('ignore')\n",
    "    while True:\n",
    "        # Grab a single frame of video\n",
    "        ret, frame = video_capture.read()\n",
    "        \n",
    "        # Resize frame of video to 1/4 size for faster face recognition processing\n",
    "        small_frame = cv2.resize(frame, (0,0) , fx=0.25, fy=0.25)\n",
    "        \n",
    "        # Only process every other frame of video to save time\n",
    "        if process_this_frame:\n",
    "            # Find all the faces and face encodings in the current frame of video\n",
    "            face_locations = face_recognition_api.face_locations(small_frame)\n",
    "            face_encodings = face_recognition_api.face_encodings(small_frame, face_locations)\n",
    "            \n",
    "            face_names = []\n",
    "            predictions = []\n",
    "            if len(face_encodings) > 0:\n",
    "                closest_distances = clf.kneighbors(face_encodings, n_neighbors=1)\n",
    "                \n",
    "                is_recognized = [closest_distances[0][i][0] <= 0.5 for i in range(len(face_locations))]\n",
    "                \n",
    "                # predict classes and cull classifications that are not with high confidence\n",
    "                predictions = [(le.inverse_transform(int(pred)).title(), loc) if rec else (\"Unknown\", loc) for pred, loc, rec in\n",
    "                               zip(clf.predict(face_encodings), face_locations, is_recognized)]\n",
    "                \n",
    "            # # Predict the unknown faces in the video frame\n",
    "            # for face_encoding in face_encodings:\n",
    "            #     face_encoding = face_encoding.reshape(1, -1)\n",
    "            #\n",
    "            #     # predictions = clf.predict(face_encoding).ravel()\n",
    "            #     # person = le.inverse_transform(int(predictions[0]))\n",
    "            #\n",
    "            #     predictions = clf.predict_proba(face_encoding).ravel()\n",
    "            #     maxI = np.argmax(predictions)\n",
    "            #     person = le.inverse_transform(maxI)\n",
    "            #     confidence = predictions[maxI]\n",
    "            #     print(person, confidence)\n",
    "            #     if confidence < 0.7:\n",
    "            #         person = 'Unknown'\n",
    "            #\n",
    "            #     face_names.append(person.title())\n",
    "            \n",
    "        process_this_frame = not process_this_frame\n",
    "        \n",
    "        # Display the results\n",
    "        for name,(top, right, bottom, left) in predictions:\n",
    "            # Scale back up face locations since the frame we detected in was scaled to 1/4 size\n",
    "            top *= 4\n",
    "            right *= 4 \n",
    "            bottom *= 4\n",
    "            left *= 4\n",
    "            \n",
    "            # Draw a box around the face\n",
    "            cv2.rectangle(frame, (left, top), (right, bottom), (0, 0, 255), 2)\n",
    "\n",
    "            # Draw a label with a name below the face\n",
    "            cv2.rectangle(frame, (left, bottom - 35), (right, bottom), (0, 0, 255), cv2.FILLED)\n",
    "            font = cv2.FONT_HERSHEY_COMPLEX\n",
    "            cv2.putText(frame, name, (left + 6, bottom - 6), font, 1.0, (255,255,255), 1)\n",
    "            \n",
    "        # Display Image Result\n",
    "        cv2.imshow('Face Recog', frame)\n",
    "        \n",
    "        if cv2.waitKey(1) & 0xFF == ord('q'):\n",
    "            break\n",
    "    \n",
    "    # Release handle to the webcam\n",
    "    video_capture.release()\n",
    "    cv2.destroyAllWindows()"
   ]
  }
 ],
 "metadata": {
  "kernelspec": {
   "display_name": "Python 3",
   "language": "python",
   "name": "python3"
  },
  "language_info": {
   "codemirror_mode": {
    "name": "ipython",
    "version": 3
   },
   "file_extension": ".py",
   "mimetype": "text/x-python",
   "name": "python",
   "nbconvert_exporter": "python",
   "pygments_lexer": "ipython3",
   "version": "3.6.2"
  }
 },
 "nbformat": 4,
 "nbformat_minor": 2
}
