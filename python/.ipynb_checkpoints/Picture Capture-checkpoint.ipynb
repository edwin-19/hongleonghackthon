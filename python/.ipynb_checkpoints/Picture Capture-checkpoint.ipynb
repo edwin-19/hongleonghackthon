{
 "cells": [
  {
   "cell_type": "code",
   "execution_count": 1,
   "metadata": {
    "collapsed": true
   },
   "outputs": [],
   "source": [
    "import cv2\n",
    "import os"
   ]
  },
  {
   "cell_type": "code",
   "execution_count": 2,
   "metadata": {
    "collapsed": true
   },
   "outputs": [],
   "source": [
    "face_cascade = cv2.CascadeClassifier('casscade/haarcascade_frontalface_default.xml')"
   ]
  },
  {
   "cell_type": "code",
   "execution_count": 3,
   "metadata": {
    "collapsed": true
   },
   "outputs": [],
   "source": [
    "def detect_face(face_id):\n",
    "    cap = cv2.VideoCapture(0)\n",
    "    count = 0\n",
    "    \n",
    "    while True:\n",
    "        ret, img = cap.read()\n",
    "        gray = 0\n",
    "        \n",
    "        if ret is True:\n",
    "            gray = cv2.cvtColor(img, cv2.COLOR_RGB2BGR)\n",
    "        else:\n",
    "            continue\n",
    "        \n",
    "        faces = face_cascade.detectMultiScale(gray, 1.3, 5)\n",
    "        \n",
    "        for (x,y,w,h) in faces:\n",
    "            cv2.rectangle(img,(x,y),(x+w,y+h),(255,0,0),2)\n",
    "            roi_gray = gray[y:y+h, x:x+w]\n",
    "            \n",
    "            count+=1\n",
    "            if not os.path.exists('training-images/' + face_id):\n",
    "                os.mkdir('training-images/' + face_id)\n",
    "            cv2.imwrite(\"training-images/\" + str(face_id) + \"/\" + str(count) + \".jpg\", roi_gray)\n",
    "        \n",
    "        if count > 20:\n",
    "            cap.release()\n",
    "            cv2.destroyAllWindows()\n",
    "            break\n",
    "        \n",
    "        cv2.imshow('facial', img)\n",
    "        k = cv2.waitKey(30) & 0xff\n",
    "        if k == 27:\n",
    "            break"
   ]
  },
  {
   "cell_type": "code",
   "execution_count": 4,
   "metadata": {
    "collapsed": true
   },
   "outputs": [],
   "source": [
    "detect_face('Brandon')"
   ]
  }
 ],
 "metadata": {
  "kernelspec": {
   "display_name": "Python 3",
   "language": "python",
   "name": "python3"
  },
  "language_info": {
   "codemirror_mode": {
    "name": "ipython",
    "version": 3
   },
   "file_extension": ".py",
   "mimetype": "text/x-python",
   "name": "python",
   "nbconvert_exporter": "python",
   "pygments_lexer": "ipython3",
   "version": "3.6.2"
  }
 },
 "nbformat": 4,
 "nbformat_minor": 2
}
