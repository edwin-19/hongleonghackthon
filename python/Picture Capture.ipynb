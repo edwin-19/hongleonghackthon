{
 "cells": [
  {
   "cell_type": "code",
   "execution_count": 8,
   "metadata": {
    "collapsed": true
   },
   "outputs": [],
   "source": [
    "import cv2\n",
    "import os\n",
    "import sqlite3\n",
    "import numpy as np\n",
    "import os"
   ]
  },
  {
   "cell_type": "code",
   "execution_count": 2,
   "metadata": {
    "collapsed": true
   },
   "outputs": [],
   "source": [
    "face_cascade = cv2.CascadeClassifier('casscade/haarcascade_frontalface_default.xml')"
   ]
  },
  {
   "cell_type": "code",
   "execution_count": 3,
   "metadata": {
    "collapsed": true,
    "scrolled": true
   },
   "outputs": [],
   "source": [
    "def get_file_directory_count():\n",
    "    return len([dI for dI in os.listdir('training-images') if os.path.isdir(os.path.join('training-images',dI))]) + 1"
   ]
  },
  {
   "cell_type": "code",
   "execution_count": 4,
   "metadata": {
    "collapsed": true
   },
   "outputs": [],
   "source": [
    "def gen_randon_num():\n",
    "    return np.random.randint(0, 10000)"
   ]
  },
  {
   "cell_type": "code",
   "execution_count": 5,
   "metadata": {
    "collapsed": true
   },
   "outputs": [],
   "source": [
    "def insertNewUser(cust_id, name, balance):\n",
    "    p_id = cust_id\n",
    "    p_name = name\n",
    "    p_balance = balance\n",
    "    \n",
    "    conn = sqlite3.connect('hl.db')\n",
    "    \n",
    "    try:\n",
    "        if conn:\n",
    "            command = \"SELECT * FROM Customer WHERE cust_id = ?\"\n",
    "            cursor = conn.execute(command, str(p_id))\n",
    "            \n",
    "            isRecordExist = 0\n",
    "            for row in cursor:\n",
    "                isRecordExist = 1\n",
    "            \n",
    "            if isRecordExist is True:\n",
    "                command = \"UPDATE Customer SET cust_name\" + str(p_name) + \" WHERE cust_id= \" + str(p_id)\n",
    "            else:\n",
    "                command = \"INSERT INTO Customer(cust_id, cust_name, cust_bal) Values(?,?,?)\"\n",
    "            \n",
    "            conn.execute(command,(p_id, p_name, p_balance))\n",
    "            conn.commit()\n",
    "            conn.close()\n",
    "    except sqlite3.ProgrammingError as ex:\n",
    "        print(\"Error: \" + str(ex))"
   ]
  },
  {
   "cell_type": "code",
   "execution_count": 6,
   "metadata": {
    "collapsed": true
   },
   "outputs": [],
   "source": [
    "def detect_face(face_id):\n",
    "    cap = cv2.VideoCapture(0)\n",
    "    count = 0\n",
    "    \n",
    "    while True:\n",
    "        ret, img = cap.read()\n",
    "        gray = 0\n",
    "        \n",
    "        if ret is True:\n",
    "            gray = cv2.cvtColor(img, cv2.COLOR_RGB2BGR)\n",
    "        else:\n",
    "            continue\n",
    "        \n",
    "        faces = face_cascade.detectMultiScale(gray, 1.3, 5)\n",
    "        \n",
    "        for (x,y,w,h) in faces:\n",
    "            cv2.rectangle(img,(x,y),(x+w,y+h),(255,0,0),2)\n",
    "            roi_gray = gray[y:y+h, x:x+w]\n",
    "            \n",
    "            count+=1\n",
    "            if not os.path.exists('training-images/' + face_id):\n",
    "                os.mkdir('training-images/' + face_id)\n",
    "            cv2.imwrite(\"training-images/\" + str(face_id) + \"/\" + str(count) + \".jpg\", roi_gray)\n",
    "        \n",
    "        if count > 20:\n",
    "            cap.release()\n",
    "            cv2.destroyAllWindows()\n",
    "            break\n",
    "        \n",
    "        cv2.imshow('facial', img)\n",
    "        k = cv2.waitKey(30) & 0xff\n",
    "        if k == 27:\n",
    "            break"
   ]
  },
  {
   "cell_type": "code",
   "execution_count": 7,
   "metadata": {
    "collapsed": true
   },
   "outputs": [],
   "source": [
    "insertNewUser(get_file_directory_count(), 'Edwin', gen_randon_num())\n",
    "detect_face('Edwin')"
   ]
  },
  {
   "cell_type": "code",
   "execution_count": 34,
   "metadata": {},
   "outputs": [],
   "source": [
    "test = [dI for dI in os.listdir('training-images') if os.path.isdir(os.path.join('training-images',dI))]"
   ]
  },
  {
   "cell_type": "code",
   "execution_count": 52,
   "metadata": {},
   "outputs": [],
   "source": []
  }
 ],
 "metadata": {
  "kernelspec": {
   "display_name": "Python 3",
   "language": "python",
   "name": "python3"
  },
  "language_info": {
   "codemirror_mode": {
    "name": "ipython",
    "version": 3
   },
   "file_extension": ".py",
   "mimetype": "text/x-python",
   "name": "python",
   "nbconvert_exporter": "python",
   "pygments_lexer": "ipython3",
   "version": "3.6.2"
  }
 },
 "nbformat": 4,
 "nbformat_minor": 2
}
